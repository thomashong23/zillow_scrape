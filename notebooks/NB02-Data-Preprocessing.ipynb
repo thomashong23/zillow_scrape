{
 "cells": [
  {
   "cell_type": "markdown",
   "metadata": {},
   "source": [
    "# Data Preprocessing Based on Saved Files from NB 01 and 01b"
   ]
  },
  {
   "cell_type": "markdown",
   "metadata": {},
   "source": [
    "Import necessary packages"
   ]
  },
  {
   "cell_type": "code",
   "execution_count": 592,
   "metadata": {},
   "outputs": [],
   "source": [
    "import glob\n",
    "import json\n",
    "import os\n",
    "import pandas as pd\n",
    "import warnings\n",
    "import sqlite3\n"
   ]
  },
  {
   "cell_type": "markdown",
   "metadata": {},
   "source": [
    "## Cleaning Zillow home data"
   ]
  },
  {
   "cell_type": "markdown",
   "metadata": {},
   "source": [
    "### Import data and combine into df"
   ]
  },
  {
   "cell_type": "code",
   "execution_count": 593,
   "metadata": {},
   "outputs": [],
   "source": [
    "\n",
    "warnings.filterwarnings(\"ignore\")\n",
    "DATA_FOLDER = '../data/raw'\n",
    "#making a list of file names to easily access them\n",
    "zillow_files = [os.path.join(DATA_FOLDER, 'zillow',  file) \n",
    "             for file in os.listdir(DATA_FOLDER + \"/zillow\") \n",
    "             if file.endswith('.json')]\n",
    "\n",
    "combined_data = []\n",
    "for file in zillow_files:\n",
    "  #found a stackoverflow how to read json files line by line as dictionaries\n",
    "  with open(file, 'r') as f:\n",
    "    for line in f:\n",
    "      combined_data.append(json.loads(line))\n",
    "    \n",
    "    \n",
    "#converting the list of dictionaries to a pandas dataframe\n",
    "combined_df = pd.DataFrame.from_dict(combined_data)\n",
    "\n"
   ]
  },
  {
   "cell_type": "markdown",
   "metadata": {},
   "source": [
    "### Drop unnecessary columns, convert to proper dtypes"
   ]
  },
  {
   "cell_type": "code",
   "execution_count": 594,
   "metadata": {},
   "outputs": [],
   "source": [
    "combined_cleaned = combined_df[['id', 'price', 'address', \n",
    "    'addressZipcode', 'addressState', 'beds', 'baths', 'area', \n",
    "    'zestimate', 'brokerName']]\n",
    "#free up space\n",
    "del combined_df\n"
   ]
  },
  {
   "cell_type": "markdown",
   "metadata": {},
   "source": [
    "I only want houses which are real (have at least 1 bedroom)"
   ]
  },
  {
   "cell_type": "code",
   "execution_count": 595,
   "metadata": {},
   "outputs": [],
   "source": [
    "combined_real = combined_cleaned[combined_cleaned['beds'] > 0]\n",
    "# display(combined_real.info())\n",
    "# display(combined_real.head())"
   ]
  },
  {
   "cell_type": "markdown",
   "metadata": {},
   "source": [
    "Now all houses have non-null beds, baths, etc\n",
    "Next is to strip the $ sign from price, add a town column, and convert to proper data types"
   ]
  },
  {
   "cell_type": "code",
   "execution_count": 596,
   "metadata": {},
   "outputs": [],
   "source": [
    "#convert the price to float and remove the $ and , and + signs.\n",
    "#some houses had a + sign at the end of the price, but I took the price without the sign\n",
    "combined_real['price']  = combined_real['price'].str.replace('$', '').str.replace(',','').str.replace('+', '')\n",
    "combined_real['price'] = combined_real['price'].astype(float)"
   ]
  },
  {
   "cell_type": "markdown",
   "metadata": {},
   "source": [
    "Bedroom can only be an integer, so will cast it as an int16. ID is also an int. Add the town column for maybe more insights down the line"
   ]
  },
  {
   "cell_type": "code",
   "execution_count": 597,
   "metadata": {},
   "outputs": [],
   "source": [
    "combined_real['beds'] = combined_real['beds'].astype('int16')\n",
    "combined_real['id'] = combined_real['id'].astype('int64')\n",
    "combined_real['town'] = combined_real['address'].str.split(',').str[1]\n",
    "combined_real.drop_duplicates(subset='address', inplace=True)\n"
   ]
  },
  {
   "cell_type": "code",
   "execution_count": null,
   "metadata": {},
   "outputs": [],
   "source": []
  },
  {
   "cell_type": "markdown",
   "metadata": {},
   "source": [
    "## Cleaning Zip Data"
   ]
  },
  {
   "cell_type": "markdown",
   "metadata": {},
   "source": [
    "### Load in the data"
   ]
  },
  {
   "cell_type": "code",
   "execution_count": 598,
   "metadata": {},
   "outputs": [
    {
     "data": {
      "text/html": [
       "<div>\n",
       "<style scoped>\n",
       "    .dataframe tbody tr th:only-of-type {\n",
       "        vertical-align: middle;\n",
       "    }\n",
       "\n",
       "    .dataframe tbody tr th {\n",
       "        vertical-align: top;\n",
       "    }\n",
       "\n",
       "    .dataframe thead th {\n",
       "        text-align: right;\n",
       "    }\n",
       "</style>\n",
       "<table border=\"1\" class=\"dataframe\">\n",
       "  <thead>\n",
       "    <tr style=\"text-align: right;\">\n",
       "      <th></th>\n",
       "      <th>0</th>\n",
       "      <th>1</th>\n",
       "      <th>2</th>\n",
       "      <th>3</th>\n",
       "      <th>4</th>\n",
       "      <th>5</th>\n",
       "      <th>6</th>\n",
       "      <th>7</th>\n",
       "      <th>8</th>\n",
       "      <th>zip_codes</th>\n",
       "    </tr>\n",
       "  </thead>\n",
       "  <tbody>\n",
       "    <tr>\n",
       "      <th>0</th>\n",
       "      <td>{'format': 'number', 'value': '4228', 'topic':...</td>\n",
       "      <td>{'format': 'dollar', 'value': '170379', 'topic...</td>\n",
       "      <td>{'format': 'percent', 'value': '75.8', 'topic'...</td>\n",
       "      <td>{'format': 'percent', 'value': '51.7', 'topic'...</td>\n",
       "      <td>{'format': 'number', 'value': '2321', 'topic':...</td>\n",
       "      <td>{'format': 'percent', 'value': '1.9', 'topic':...</td>\n",
       "      <td>{'format': 'number', 'value': '1087', 'topic':...</td>\n",
       "      <td>{'format': 'number', 'value': '2002', 'topic':...</td>\n",
       "      <td>{'format': 'number', 'value': '256', 'topic': ...</td>\n",
       "      <td>ZCTA5 02108</td>\n",
       "    </tr>\n",
       "    <tr>\n",
       "      <th>1</th>\n",
       "      <td>{'format': 'number', 'value': '3921', 'topic':...</td>\n",
       "      <td>{'format': 'dollar', 'value': '162179', 'topic...</td>\n",
       "      <td>{'format': 'percent', 'value': '81.5', 'topic'...</td>\n",
       "      <td>{'format': 'percent', 'value': '77.5', 'topic'...</td>\n",
       "      <td>{'format': 'number', 'value': '2639', 'topic':...</td>\n",
       "      <td>{'format': 'percent', 'value': '1.5', 'topic':...</td>\n",
       "      <td>{'format': 'number', 'value': '1340', 'topic':...</td>\n",
       "      <td>{'format': 'number', 'value': '1993', 'topic':...</td>\n",
       "      <td>{'format': 'number', 'value': '205', 'topic': ...</td>\n",
       "      <td>ZCTA5 02109</td>\n",
       "    </tr>\n",
       "    <tr>\n",
       "      <th>2</th>\n",
       "      <td>{'format': 'number', 'value': '2921', 'topic':...</td>\n",
       "      <td>{'format': 'dollar', 'value': '126157', 'topic...</td>\n",
       "      <td>{'format': 'percent', 'value': '85.0', 'topic'...</td>\n",
       "      <td>{'format': 'percent', 'value': '55.2', 'topic'...</td>\n",
       "      <td>{'format': 'number', 'value': '1754', 'topic':...</td>\n",
       "      <td>{'format': 'percent', 'value': '0.7', 'topic':...</td>\n",
       "      <td>{'format': 'number', 'value': '1917', 'topic':...</td>\n",
       "      <td>{'format': 'number', 'value': '1312', 'topic':...</td>\n",
       "      <td>{'format': 'number', 'value': '132', 'topic': ...</td>\n",
       "      <td>ZCTA5 02110</td>\n",
       "    </tr>\n",
       "    <tr>\n",
       "      <th>3</th>\n",
       "      <td>{'format': 'number', 'value': '9716', 'topic':...</td>\n",
       "      <td>{'format': 'dollar', 'value': '72321', 'topic'...</td>\n",
       "      <td>{'format': 'percent', 'value': '61.5', 'topic'...</td>\n",
       "      <td>{'format': 'percent', 'value': '55.9', 'topic'...</td>\n",
       "      <td>{'format': 'number', 'value': '4827', 'topic':...</td>\n",
       "      <td>{'format': 'percent', 'value': '0.9', 'topic':...</td>\n",
       "      <td>{'format': 'number', 'value': '963', 'topic': ...</td>\n",
       "      <td>{'format': 'number', 'value': '3746', 'topic':...</td>\n",
       "      <td>{'format': 'number', 'value': '745', 'topic': ...</td>\n",
       "      <td>ZCTA5 02111</td>\n",
       "    </tr>\n",
       "    <tr>\n",
       "      <th>4</th>\n",
       "      <td>{'format': 'number', 'value': '29073', 'topic'...</td>\n",
       "      <td>{'format': 'dollar', 'value': '74155', 'topic'...</td>\n",
       "      <td>{'format': 'percent', 'value': '54.8', 'topic'...</td>\n",
       "      <td>{'format': 'percent', 'value': '57.2', 'topic'...</td>\n",
       "      <td>{'format': 'number', 'value': '15080', 'topic'...</td>\n",
       "      <td>{'format': 'percent', 'value': '2.8', 'topic':...</td>\n",
       "      <td>{'format': 'number', 'value': '894', 'topic': ...</td>\n",
       "      <td>{'format': 'number', 'value': '14133', 'topic'...</td>\n",
       "      <td>{'format': 'number', 'value': '5191', 'topic':...</td>\n",
       "      <td>ZCTA5 02118</td>\n",
       "    </tr>\n",
       "  </tbody>\n",
       "</table>\n",
       "</div>"
      ],
      "text/plain": [
       "                                                   0  \\\n",
       "0  {'format': 'number', 'value': '4228', 'topic':...   \n",
       "1  {'format': 'number', 'value': '3921', 'topic':...   \n",
       "2  {'format': 'number', 'value': '2921', 'topic':...   \n",
       "3  {'format': 'number', 'value': '9716', 'topic':...   \n",
       "4  {'format': 'number', 'value': '29073', 'topic'...   \n",
       "\n",
       "                                                   1  \\\n",
       "0  {'format': 'dollar', 'value': '170379', 'topic...   \n",
       "1  {'format': 'dollar', 'value': '162179', 'topic...   \n",
       "2  {'format': 'dollar', 'value': '126157', 'topic...   \n",
       "3  {'format': 'dollar', 'value': '72321', 'topic'...   \n",
       "4  {'format': 'dollar', 'value': '74155', 'topic'...   \n",
       "\n",
       "                                                   2  \\\n",
       "0  {'format': 'percent', 'value': '75.8', 'topic'...   \n",
       "1  {'format': 'percent', 'value': '81.5', 'topic'...   \n",
       "2  {'format': 'percent', 'value': '85.0', 'topic'...   \n",
       "3  {'format': 'percent', 'value': '61.5', 'topic'...   \n",
       "4  {'format': 'percent', 'value': '54.8', 'topic'...   \n",
       "\n",
       "                                                   3  \\\n",
       "0  {'format': 'percent', 'value': '51.7', 'topic'...   \n",
       "1  {'format': 'percent', 'value': '77.5', 'topic'...   \n",
       "2  {'format': 'percent', 'value': '55.2', 'topic'...   \n",
       "3  {'format': 'percent', 'value': '55.9', 'topic'...   \n",
       "4  {'format': 'percent', 'value': '57.2', 'topic'...   \n",
       "\n",
       "                                                   4  \\\n",
       "0  {'format': 'number', 'value': '2321', 'topic':...   \n",
       "1  {'format': 'number', 'value': '2639', 'topic':...   \n",
       "2  {'format': 'number', 'value': '1754', 'topic':...   \n",
       "3  {'format': 'number', 'value': '4827', 'topic':...   \n",
       "4  {'format': 'number', 'value': '15080', 'topic'...   \n",
       "\n",
       "                                                   5  \\\n",
       "0  {'format': 'percent', 'value': '1.9', 'topic':...   \n",
       "1  {'format': 'percent', 'value': '1.5', 'topic':...   \n",
       "2  {'format': 'percent', 'value': '0.7', 'topic':...   \n",
       "3  {'format': 'percent', 'value': '0.9', 'topic':...   \n",
       "4  {'format': 'percent', 'value': '2.8', 'topic':...   \n",
       "\n",
       "                                                   6  \\\n",
       "0  {'format': 'number', 'value': '1087', 'topic':...   \n",
       "1  {'format': 'number', 'value': '1340', 'topic':...   \n",
       "2  {'format': 'number', 'value': '1917', 'topic':...   \n",
       "3  {'format': 'number', 'value': '963', 'topic': ...   \n",
       "4  {'format': 'number', 'value': '894', 'topic': ...   \n",
       "\n",
       "                                                   7  \\\n",
       "0  {'format': 'number', 'value': '2002', 'topic':...   \n",
       "1  {'format': 'number', 'value': '1993', 'topic':...   \n",
       "2  {'format': 'number', 'value': '1312', 'topic':...   \n",
       "3  {'format': 'number', 'value': '3746', 'topic':...   \n",
       "4  {'format': 'number', 'value': '14133', 'topic'...   \n",
       "\n",
       "                                                   8    zip_codes  \n",
       "0  {'format': 'number', 'value': '256', 'topic': ...  ZCTA5 02108  \n",
       "1  {'format': 'number', 'value': '205', 'topic': ...  ZCTA5 02109  \n",
       "2  {'format': 'number', 'value': '132', 'topic': ...  ZCTA5 02110  \n",
       "3  {'format': 'number', 'value': '745', 'topic': ...  ZCTA5 02111  \n",
       "4  {'format': 'number', 'value': '5191', 'topic':...  ZCTA5 02118  "
      ]
     },
     "metadata": {},
     "output_type": "display_data"
    }
   ],
   "source": [
    "zip_data = json.load(open('../data/raw/zip_info.json'))\n",
    "zip_info = [x['highlights'] for x in zip_data]\n",
    "zip_df = pd.DataFrame(zip_info)\n",
    "zip_df['zip_codes'] = [x['selectedProfile']['label'] for x in zip_data]\n",
    "display(zip_df.head())\n",
    "\n"
   ]
  },
  {
   "cell_type": "code",
   "execution_count": 599,
   "metadata": {},
   "outputs": [],
   "source": [
    "columns_temp = [x['label'] for x in zip_info[0]]\n",
    "columns_final = [x.replace(' ', '_').replace('\\'','').lower() for x in columns_temp]\n",
    "columns_final.append('zcta')\n",
    "# print(columns_final)\n",
    "zip_df.columns = columns_final\n",
    "#extract value from all columns since they were dictionaries with other information tags\n",
    "for name in zip_df.columns:\n",
    "  if name == 'zcta':\n",
    "    zip_df[name] = zip_df[name].apply(lambda x: x[5:])\n",
    "    continue\n",
    "  # print(\"name is \", name)\n",
    "  zip_df[name] = zip_df[name].apply(lambda x: x['value'] if type(x) == dict else None)\n",
    "# display(zip_df.info())\n"
   ]
  },
  {
   "cell_type": "markdown",
   "metadata": {},
   "source": [
    "### Convert zip df to proper type"
   ]
  },
  {
   "cell_type": "markdown",
   "metadata": {},
   "source": [
    "Now, I want to remove the zip codes with 0 households (which also removes '-' from other columns in same row)"
   ]
  },
  {
   "cell_type": "code",
   "execution_count": 600,
   "metadata": {},
   "outputs": [],
   "source": [
    "\n",
    "zip_df.dropna(subset=['total_households'], inplace=True)\n",
    "zip_df = zip_df[zip_df['total_households'].astype(int) > 0]\n",
    "\n",
    "# display(zip_df)"
   ]
  },
  {
   "cell_type": "code",
   "execution_count": 601,
   "metadata": {},
   "outputs": [
    {
     "name": "stdout",
     "output_type": "stream",
     "text": [
      "The sql extension is already loaded. To reload it, use:\n",
      "  %reload_ext sql\n"
     ]
    }
   ],
   "source": [
    "%load_ext sql\n",
    "%config SqlMagic.autocommit=True # for engines that do not support autommit"
   ]
  },
  {
   "cell_type": "code",
   "execution_count": 609,
   "metadata": {},
   "outputs": [],
   "source": [
    "DATA_FOLDER_P = os.path.join('../data')"
   ]
  },
  {
   "cell_type": "code",
   "execution_count": 610,
   "metadata": {},
   "outputs": [],
   "source": [
    "conn = sqlite3.connect(os.path.join(DATA_FOLDER_P, './home_prices.db'))\n",
    "# # conn.commit()\n",
    "# # conn.close()"
   ]
  },
  {
   "cell_type": "code",
   "execution_count": 604,
   "metadata": {},
   "outputs": [
    {
     "data": {
      "text/plain": [
       "15"
      ]
     },
     "execution_count": 604,
     "metadata": {},
     "output_type": "execute_result"
    }
   ],
   "source": [
    "# display(combined_real.head())\n",
    "combined_real.to_sql('zillow', conn, if_exists='replace', index=False)\n",
    "zip_df.to_sql('zip_info', conn, if_exists='replace', index=False)"
   ]
  },
  {
   "cell_type": "markdown",
   "metadata": {},
   "source": [
    "Make the schema for the zillow data"
   ]
  },
  {
   "cell_type": "code",
   "execution_count": 611,
   "metadata": {},
   "outputs": [
    {
     "data": {
      "text/html": [
       "<table>\n",
       "    <thead>\n",
       "        <tr>\n",
       "            <th>id</th>\n",
       "            <th>price</th>\n",
       "            <th>address</th>\n",
       "            <th>addressZipcode</th>\n",
       "            <th>addressState</th>\n",
       "            <th>beds</th>\n",
       "            <th>baths</th>\n",
       "            <th>area</th>\n",
       "            <th>zestimate</th>\n",
       "            <th>brokerName</th>\n",
       "            <th>town</th>\n",
       "        </tr>\n",
       "    </thead>\n",
       "    <tbody>\n",
       "        <tr>\n",
       "            <td>59150059</td>\n",
       "            <td>1595000.0</td>\n",
       "            <td>16 Atlantic St, South Boston, MA 02127</td>\n",
       "            <td>02127</td>\n",
       "            <td>MA</td>\n",
       "            <td>5</td>\n",
       "            <td>3.0</td>\n",
       "            <td>2300.0</td>\n",
       "            <td>1538400.0</td>\n",
       "            <td>Grove Property Group</td>\n",
       "            <td> South Boston</td>\n",
       "        </tr>\n",
       "        <tr>\n",
       "            <td>2063017667</td>\n",
       "            <td>899000.0</td>\n",
       "            <td>330 1/2 East St #1, Boston, MA 02127</td>\n",
       "            <td>02127</td>\n",
       "            <td>MA</td>\n",
       "            <td>4</td>\n",
       "            <td>2.0</td>\n",
       "            <td>1662.0</td>\n",
       "            <td>None</td>\n",
       "            <td>Gibson Sotheby's International Realty</td>\n",
       "            <td> Boston</td>\n",
       "        </tr>\n",
       "        <tr>\n",
       "            <td>63712077</td>\n",
       "            <td>850000.0</td>\n",
       "            <td>534-538 Commonwealth Ave UNIT 7D, Boston, MA 02215</td>\n",
       "            <td>02215</td>\n",
       "            <td>MA</td>\n",
       "            <td>2</td>\n",
       "            <td>2.0</td>\n",
       "            <td>864.0</td>\n",
       "            <td>800100.0</td>\n",
       "            <td>Cornerstone Real Estate</td>\n",
       "            <td> Boston</td>\n",
       "        </tr>\n",
       "        <tr>\n",
       "            <td>318227332</td>\n",
       "            <td>939000.0</td>\n",
       "            <td>183 D St UNIT 4, South Boston, MA 02127</td>\n",
       "            <td>02127</td>\n",
       "            <td>MA</td>\n",
       "            <td>2</td>\n",
       "            <td>2.0</td>\n",
       "            <td>1037.0</td>\n",
       "            <td>927800.0</td>\n",
       "            <td>Skyline Realty</td>\n",
       "            <td> South Boston</td>\n",
       "        </tr>\n",
       "        <tr>\n",
       "            <td>190014785</td>\n",
       "            <td>899000.0</td>\n",
       "            <td>22 Florian St, Roslindale, MA 02131</td>\n",
       "            <td>02131</td>\n",
       "            <td>MA</td>\n",
       "            <td>6</td>\n",
       "            <td>2.0</td>\n",
       "            <td>1959.0</td>\n",
       "            <td>872500.0</td>\n",
       "            <td>Here Realty LLC</td>\n",
       "            <td> Roslindale</td>\n",
       "        </tr>\n",
       "    </tbody>\n",
       "</table>"
      ],
      "text/plain": [
       "+------------+-----------+----------------------------------------------------+----------------+--------------+------+-------+--------+-----------+---------------------------------------+---------------+\n",
       "|     id     |   price   |                      address                       | addressZipcode | addressState | beds | baths |  area  | zestimate |               brokerName              |      town     |\n",
       "+------------+-----------+----------------------------------------------------+----------------+--------------+------+-------+--------+-----------+---------------------------------------+---------------+\n",
       "|  59150059  | 1595000.0 |       16 Atlantic St, South Boston, MA 02127       |     02127      |      MA      |  5   |  3.0  | 2300.0 | 1538400.0 |          Grove Property Group         |  South Boston |\n",
       "| 2063017667 |  899000.0 |        330 1/2 East St #1, Boston, MA 02127        |     02127      |      MA      |  4   |  2.0  | 1662.0 |    None   | Gibson Sotheby's International Realty |     Boston    |\n",
       "|  63712077  |  850000.0 | 534-538 Commonwealth Ave UNIT 7D, Boston, MA 02215 |     02215      |      MA      |  2   |  2.0  | 864.0  |  800100.0 |        Cornerstone Real Estate        |     Boston    |\n",
       "| 318227332  |  939000.0 |      183 D St UNIT 4, South Boston, MA 02127       |     02127      |      MA      |  2   |  2.0  | 1037.0 |  927800.0 |             Skyline Realty            |  South Boston |\n",
       "| 190014785  |  899000.0 |        22 Florian St, Roslindale, MA 02131         |     02131      |      MA      |  6   |  2.0  | 1959.0 |  872500.0 |            Here Realty LLC            |   Roslindale  |\n",
       "+------------+-----------+----------------------------------------------------+----------------+--------------+------+-------+--------+-----------+---------------------------------------+---------------+"
      ]
     },
     "execution_count": 611,
     "metadata": {},
     "output_type": "execute_result"
    }
   ],
   "source": [
    "%%sql homes\n",
    "SELECT name FROM sqlite_master WHERE type='table';\n",
    "\n",
    "\n"
   ]
  },
  {
   "cell_type": "code",
   "execution_count": 612,
   "metadata": {},
   "outputs": [],
   "source": [
    "conn.close()"
   ]
  }
 ],
 "metadata": {
  "kernelspec": {
   "display_name": "base",
   "language": "python",
   "name": "python3"
  },
  "language_info": {
   "codemirror_mode": {
    "name": "ipython",
    "version": 3
   },
   "file_extension": ".py",
   "mimetype": "text/x-python",
   "name": "python",
   "nbconvert_exporter": "python",
   "pygments_lexer": "ipython3",
   "version": "3.12.4"
  }
 },
 "nbformat": 4,
 "nbformat_minor": 2
}
