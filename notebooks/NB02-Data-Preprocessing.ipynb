{
 "cells": [
  {
   "cell_type": "code",
   "execution_count": 117,
   "metadata": {},
   "outputs": [
    {
     "name": "stdout",
     "output_type": "stream",
     "text": [
      "<class 'dict'>\n"
     ]
    },
    {
     "data": {
      "text/plain": [
       "Index(['zpid', 'id', 'rawHomeStatusCd', 'marketingStatusSimplifiedCd',\n",
       "       'imgSrc', 'hasImage', 'detailUrl', 'statusType', 'statusText',\n",
       "       'countryCurrency', 'price', 'unformattedPrice', 'address',\n",
       "       'addressStreet', 'addressCity', 'addressState', 'addressZipcode',\n",
       "       'isUndisclosedAddress', 'beds', 'baths', 'area', 'latLong',\n",
       "       'isZillowOwned', 'flexFieldText', 'flexFieldType', 'hdpData', 'isSaved',\n",
       "       'isUserClaimingOwner', 'isUserConfirmedClaim', 'pgapt', 'sgapt',\n",
       "       'zestimate', 'shouldShowZestimateAsPrice', 'has3DModel', 'hasVideo',\n",
       "       'isHomeRec', 'hasAdditionalAttributions', 'isFeaturedListing',\n",
       "       'isShowcaseListing', 'list', 'relaxed', 'info6String', 'brokerName',\n",
       "       'carouselPhotos', 'hasOpenHouse', 'openHouseStartDate',\n",
       "       'openHouseEndDate', 'openHouseDescription', 'providerListingId',\n",
       "       'builderName', 'isPropertyResultCDP', 'lotAreaString'],\n",
       "      dtype='object')"
      ]
     },
     "metadata": {},
     "output_type": "display_data"
    }
   ],
   "source": [
    "import glob\n",
    "import json\n",
    "import os\n",
    "import pandas as pd\n",
    "import warnings\n",
    "import sqlite3\n",
    "warnings.filterwarnings(\"ignore\")\n",
    "DATA_FOLDER = '../data/raw'\n",
    "zillow_files = [os.path.join(DATA_FOLDER, 'zillow',  file) \n",
    "             for file in os.listdir(DATA_FOLDER + \"/zillow\") \n",
    "             if file.endswith('.json')]\n",
    "#chat GPT helped me with the following code\n",
    "combined_data = []\n",
    "for file in zillow_files:\n",
    "  #found a stackoverflow how to read json files line by line\n",
    "  with open(file, 'r') as f:\n",
    "    for line in f:\n",
    "      combined_data.append(json.loads(line))\n",
    "    \n",
    "    \n",
    "#until here\n",
    "\n",
    "# print(combined_data[0])\n",
    "combined_df = pd.DataFrame.from_dict(combined_data)\n",
    "print(type(combined_data[0]))\n",
    "display(combined_df.columns)\n"
   ]
  },
  {
   "cell_type": "markdown",
   "metadata": {},
   "source": [
    "### Now drop unnecessary columns"
   ]
  },
  {
   "cell_type": "code",
   "execution_count": 118,
   "metadata": {},
   "outputs": [],
   "source": [
    "combined_cleaned = combined_df[['id', 'price', 'address', \n",
    "    'addressZipcode', 'addressState', 'beds', 'baths', 'area', \n",
    "    'zestimate', 'brokerName']]\n",
    "# display(combined_cleaned.head())\n",
    "# display(combined_cleaned.head())\n",
    "# display(combined_cleaned[combined_cleaned['beds'] ==0])"
   ]
  },
  {
   "cell_type": "markdown",
   "metadata": {},
   "source": [
    "I only want houses which are real (have at least 1 bedroom)"
   ]
  },
  {
   "cell_type": "code",
   "execution_count": 119,
   "metadata": {},
   "outputs": [
    {
     "name": "stdout",
     "output_type": "stream",
     "text": [
      "<class 'pandas.core.frame.DataFrame'>\n",
      "Index: 767 entries, 0 to 819\n",
      "Data columns (total 10 columns):\n",
      " #   Column          Non-Null Count  Dtype  \n",
      "---  ------          --------------  -----  \n",
      " 0   id              767 non-null    object \n",
      " 1   price           767 non-null    object \n",
      " 2   address         767 non-null    object \n",
      " 3   addressZipcode  767 non-null    object \n",
      " 4   addressState    767 non-null    object \n",
      " 5   beds            767 non-null    float64\n",
      " 6   baths           767 non-null    float64\n",
      " 7   area            767 non-null    float64\n",
      " 8   zestimate       589 non-null    float64\n",
      " 9   brokerName      722 non-null    object \n",
      "dtypes: float64(4), object(6)\n",
      "memory usage: 65.9+ KB\n"
     ]
    },
    {
     "data": {
      "text/plain": [
       "None"
      ]
     },
     "metadata": {},
     "output_type": "display_data"
    },
    {
     "data": {
      "text/html": [
       "<div>\n",
       "<style scoped>\n",
       "    .dataframe tbody tr th:only-of-type {\n",
       "        vertical-align: middle;\n",
       "    }\n",
       "\n",
       "    .dataframe tbody tr th {\n",
       "        vertical-align: top;\n",
       "    }\n",
       "\n",
       "    .dataframe thead th {\n",
       "        text-align: right;\n",
       "    }\n",
       "</style>\n",
       "<table border=\"1\" class=\"dataframe\">\n",
       "  <thead>\n",
       "    <tr style=\"text-align: right;\">\n",
       "      <th></th>\n",
       "      <th>id</th>\n",
       "      <th>price</th>\n",
       "      <th>address</th>\n",
       "      <th>addressZipcode</th>\n",
       "      <th>addressState</th>\n",
       "      <th>beds</th>\n",
       "      <th>baths</th>\n",
       "      <th>area</th>\n",
       "      <th>zestimate</th>\n",
       "      <th>brokerName</th>\n",
       "    </tr>\n",
       "  </thead>\n",
       "  <tbody>\n",
       "    <tr>\n",
       "      <th>0</th>\n",
       "      <td>59150059</td>\n",
       "      <td>$1,595,000</td>\n",
       "      <td>16 Atlantic St, South Boston, MA 02127</td>\n",
       "      <td>02127</td>\n",
       "      <td>MA</td>\n",
       "      <td>5.0</td>\n",
       "      <td>3.0</td>\n",
       "      <td>2300.0</td>\n",
       "      <td>1538400.0</td>\n",
       "      <td>Grove Property Group</td>\n",
       "    </tr>\n",
       "    <tr>\n",
       "      <th>1</th>\n",
       "      <td>2063017667</td>\n",
       "      <td>$899,000</td>\n",
       "      <td>330 1/2 East St #1, Boston, MA 02127</td>\n",
       "      <td>02127</td>\n",
       "      <td>MA</td>\n",
       "      <td>4.0</td>\n",
       "      <td>2.0</td>\n",
       "      <td>1662.0</td>\n",
       "      <td>NaN</td>\n",
       "      <td>Gibson Sotheby's International Realty</td>\n",
       "    </tr>\n",
       "    <tr>\n",
       "      <th>2</th>\n",
       "      <td>63712077</td>\n",
       "      <td>$850,000</td>\n",
       "      <td>534-538 Commonwealth Ave UNIT 7D, Boston, MA 0...</td>\n",
       "      <td>02215</td>\n",
       "      <td>MA</td>\n",
       "      <td>2.0</td>\n",
       "      <td>2.0</td>\n",
       "      <td>864.0</td>\n",
       "      <td>800100.0</td>\n",
       "      <td>Cornerstone Real Estate</td>\n",
       "    </tr>\n",
       "    <tr>\n",
       "      <th>3</th>\n",
       "      <td>318227332</td>\n",
       "      <td>$939,000</td>\n",
       "      <td>183 D St UNIT 4, South Boston, MA 02127</td>\n",
       "      <td>02127</td>\n",
       "      <td>MA</td>\n",
       "      <td>2.0</td>\n",
       "      <td>2.0</td>\n",
       "      <td>1037.0</td>\n",
       "      <td>927800.0</td>\n",
       "      <td>Skyline Realty</td>\n",
       "    </tr>\n",
       "    <tr>\n",
       "      <th>5</th>\n",
       "      <td>190014785</td>\n",
       "      <td>$899,000</td>\n",
       "      <td>22 Florian St, Roslindale, MA 02131</td>\n",
       "      <td>02131</td>\n",
       "      <td>MA</td>\n",
       "      <td>6.0</td>\n",
       "      <td>2.0</td>\n",
       "      <td>1959.0</td>\n",
       "      <td>872500.0</td>\n",
       "      <td>Here Realty LLC</td>\n",
       "    </tr>\n",
       "  </tbody>\n",
       "</table>\n",
       "</div>"
      ],
      "text/plain": [
       "           id       price                                            address  \\\n",
       "0    59150059  $1,595,000             16 Atlantic St, South Boston, MA 02127   \n",
       "1  2063017667    $899,000               330 1/2 East St #1, Boston, MA 02127   \n",
       "2    63712077    $850,000  534-538 Commonwealth Ave UNIT 7D, Boston, MA 0...   \n",
       "3   318227332    $939,000            183 D St UNIT 4, South Boston, MA 02127   \n",
       "5   190014785    $899,000                22 Florian St, Roslindale, MA 02131   \n",
       "\n",
       "  addressZipcode addressState  beds  baths    area  zestimate  \\\n",
       "0          02127           MA   5.0    3.0  2300.0  1538400.0   \n",
       "1          02127           MA   4.0    2.0  1662.0        NaN   \n",
       "2          02215           MA   2.0    2.0   864.0   800100.0   \n",
       "3          02127           MA   2.0    2.0  1037.0   927800.0   \n",
       "5          02131           MA   6.0    2.0  1959.0   872500.0   \n",
       "\n",
       "                              brokerName  \n",
       "0                   Grove Property Group  \n",
       "1  Gibson Sotheby's International Realty  \n",
       "2                Cornerstone Real Estate  \n",
       "3                         Skyline Realty  \n",
       "5                        Here Realty LLC  "
      ]
     },
     "metadata": {},
     "output_type": "display_data"
    }
   ],
   "source": [
    "combined_real = combined_cleaned[combined_cleaned['beds'] > 0]\n",
    "display(combined_real.info())\n",
    "display(combined_real.head())"
   ]
  },
  {
   "cell_type": "markdown",
   "metadata": {},
   "source": [
    "Now all houses have non-null beds, baths, etc\n",
    "Next is to strip the $ sign from price, add a town column, and convert to proper data types"
   ]
  },
  {
   "cell_type": "code",
   "execution_count": 120,
   "metadata": {},
   "outputs": [],
   "source": [
    "# display(combined_real[combined_real['price'] == '779000+'])\n"
   ]
  },
  {
   "cell_type": "code",
   "execution_count": 121,
   "metadata": {},
   "outputs": [
    {
     "name": "stdout",
     "output_type": "stream",
     "text": [
      "<class 'pandas.core.frame.DataFrame'>\n",
      "Index: 767 entries, 0 to 819\n",
      "Data columns (total 10 columns):\n",
      " #   Column          Non-Null Count  Dtype  \n",
      "---  ------          --------------  -----  \n",
      " 0   id              767 non-null    object \n",
      " 1   price           767 non-null    float64\n",
      " 2   address         767 non-null    object \n",
      " 3   addressZipcode  767 non-null    object \n",
      " 4   addressState    767 non-null    object \n",
      " 5   beds            767 non-null    float64\n",
      " 6   baths           767 non-null    float64\n",
      " 7   area            767 non-null    float64\n",
      " 8   zestimate       589 non-null    float64\n",
      " 9   brokerName      722 non-null    object \n",
      "dtypes: float64(5), object(5)\n",
      "memory usage: 65.9+ KB\n"
     ]
    },
    {
     "data": {
      "text/plain": [
       "None"
      ]
     },
     "metadata": {},
     "output_type": "display_data"
    }
   ],
   "source": [
    "combined_real['price']  = combined_real['price'].str.replace('$', '').str.replace(',','').str.replace('+', '')\n",
    "combined_real['price'] = combined_real['price'].astype(float)\n",
    "display(combined_real.info())"
   ]
  },
  {
   "cell_type": "markdown",
   "metadata": {},
   "source": [
    "bedroom can only be an integer, so will cast it as an int16. ID is also an int"
   ]
  },
  {
   "cell_type": "code",
   "execution_count": 122,
   "metadata": {},
   "outputs": [
    {
     "name": "stdout",
     "output_type": "stream",
     "text": [
      "<class 'pandas.core.frame.DataFrame'>\n",
      "Index: 766 entries, 0 to 819\n",
      "Data columns (total 11 columns):\n",
      " #   Column          Non-Null Count  Dtype  \n",
      "---  ------          --------------  -----  \n",
      " 0   id              766 non-null    int64  \n",
      " 1   price           766 non-null    float64\n",
      " 2   address         766 non-null    object \n",
      " 3   addressZipcode  766 non-null    object \n",
      " 4   addressState    766 non-null    object \n",
      " 5   beds            766 non-null    int16  \n",
      " 6   baths           766 non-null    float64\n",
      " 7   area            766 non-null    float64\n",
      " 8   zestimate       588 non-null    float64\n",
      " 9   brokerName      721 non-null    object \n",
      " 10  town            766 non-null    object \n",
      "dtypes: float64(4), int16(1), int64(1), object(5)\n",
      "memory usage: 67.3+ KB\n"
     ]
    },
    {
     "data": {
      "text/plain": [
       "None"
      ]
     },
     "metadata": {},
     "output_type": "display_data"
    }
   ],
   "source": [
    "combined_real['beds'] = combined_real['beds'].astype('int16')\n",
    "combined_real['id'] = combined_real['id'].astype('int64')\n",
    "combined_real['town'] = combined_real['address'].str.split(',').str[1]\n",
    "combined_real.drop_duplicates(subset='address', inplace=True)\n",
    "display(combined_real.info())"
   ]
  },
  {
   "cell_type": "code",
   "execution_count": 124,
   "metadata": {},
   "outputs": [
    {
     "name": "stdout",
     "output_type": "stream",
     "text": [
      "Deploy FastAPI apps for free on Ploomber Cloud! Learn more: https://ploomber.io/s/signup\n"
     ]
    }
   ],
   "source": [
    "%load_ext sql\n",
    "%config SqlMagic.autocommit=True # for engines that do not support autommit"
   ]
  },
  {
   "cell_type": "code",
   "execution_count": 125,
   "metadata": {},
   "outputs": [
    {
     "name": "stderr",
     "output_type": "stream",
     "text": [
      "UsageError: %%sql is a cell magic, but the cell body is empty. Did you mean the line magic %sql (single %)?\n"
     ]
    }
   ],
   "source": [
    "%%sql sqlite:///../data/processed/home_prices.db --alias supermarket"
   ]
  }
 ],
 "metadata": {
  "kernelspec": {
   "display_name": "base",
   "language": "python",
   "name": "python3"
  },
  "language_info": {
   "codemirror_mode": {
    "name": "ipython",
    "version": 3
   },
   "file_extension": ".py",
   "mimetype": "text/x-python",
   "name": "python",
   "nbconvert_exporter": "python",
   "pygments_lexer": "ipython3",
   "version": "3.12.4"
  }
 },
 "nbformat": 4,
 "nbformat_minor": 2
}
