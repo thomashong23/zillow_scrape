{
 "cells": [
  {
   "cell_type": "markdown",
   "metadata": {},
   "source": [
    "# Data Preprocessing Based on Saved Files from NB 01 and 01b"
   ]
  },
  {
   "cell_type": "markdown",
   "metadata": {},
   "source": [
    "Import necessary packages"
   ]
  },
  {
   "cell_type": "code",
   "execution_count": 592,
   "metadata": {},
   "outputs": [],
   "source": [
    "import glob\n",
    "import json\n",
    "import os\n",
    "import pandas as pd\n",
    "import warnings\n",
    "import sqlite3\n"
   ]
  },
  {
   "cell_type": "markdown",
   "metadata": {},
   "source": [
    "## Cleaning Zillow home data"
   ]
  },
  {
   "cell_type": "markdown",
   "metadata": {},
   "source": [
    "### Import data and combine into df"
   ]
  },
  {
   "cell_type": "code",
   "execution_count": 593,
   "metadata": {},
   "outputs": [],
   "source": [
    "\n",
    "warnings.filterwarnings(\"ignore\")\n",
    "DATA_FOLDER = '../data/raw'\n",
    "#making a list of file names to easily access them\n",
    "zillow_files = [os.path.join(DATA_FOLDER, 'zillow',  file) \n",
    "             for file in os.listdir(DATA_FOLDER + \"/zillow\") \n",
    "             if file.endswith('.json')]\n",
    "\n",
    "combined_data = []\n",
    "for file in zillow_files:\n",
    "  #found a stackoverflow how to read json files line by line as dictionaries\n",
    "  with open(file, 'r') as f:\n",
    "    for line in f:\n",
    "      combined_data.append(json.loads(line))\n",
    "    \n",
    "    \n",
    "#converting the list of dictionaries to a pandas dataframe\n",
    "combined_df = pd.DataFrame.from_dict(combined_data)\n",
    "\n"
   ]
  },
  {
   "cell_type": "markdown",
   "metadata": {},
   "source": [
    "### Drop unnecessary columns, convert to proper dtypes"
   ]
  },
  {
   "cell_type": "code",
   "execution_count": 594,
   "metadata": {},
   "outputs": [],
   "source": [
    "combined_cleaned = combined_df[['id', 'price', 'address', \n",
    "    'addressZipcode', 'addressState', 'beds', 'baths', 'area', \n",
    "    'zestimate', 'brokerName']]\n",
    "#free up space\n",
    "del combined_df\n"
   ]
  },
  {
   "cell_type": "markdown",
   "metadata": {},
   "source": [
    "I only want houses which are real (have at least 1 bedroom)"
   ]
  },
  {
   "cell_type": "code",
   "execution_count": 595,
   "metadata": {},
   "outputs": [],
   "source": [
    "combined_real = combined_cleaned[combined_cleaned['beds'] > 0]"
   ]
  },
  {
   "cell_type": "markdown",
   "metadata": {},
   "source": [
    "Now all houses have non-null beds, baths, etc\n",
    "Next is to strip the $ sign from price, add a town column, and convert to proper data types"
   ]
  },
  {
   "cell_type": "code",
   "execution_count": 596,
   "metadata": {},
   "outputs": [],
   "source": [
    "#convert the price to float and remove the $ and , and + signs.\n",
    "#some houses had a + sign at the end of the price, but I took the price without the sign\n",
    "combined_real['price']  = combined_real['price'].str.replace('$', '').str.replace(',','').str.replace('+', '')\n",
    "combined_real['price'] = combined_real['price'].astype(float)"
   ]
  },
  {
   "cell_type": "markdown",
   "metadata": {},
   "source": [
    "Bedroom can only be an integer, so will cast it as an int16. ID is also an int. Add the town column for maybe more insights down the line"
   ]
  },
  {
   "cell_type": "code",
   "execution_count": 597,
   "metadata": {},
   "outputs": [],
   "source": [
    "combined_real['beds'] = combined_real['beds'].astype('int16')\n",
    "combined_real['id'] = combined_real['id'].astype('int64')\n",
    "combined_real['town'] = combined_real['address'].str.split(',').str[1]\n",
    "combined_real.drop_duplicates(subset='address', inplace=True)\n"
   ]
  },
  {
   "cell_type": "markdown",
   "metadata": {},
   "source": [
    "## Cleaning Zip Data"
   ]
  },
  {
   "cell_type": "markdown",
   "metadata": {},
   "source": [
    "### Load in the data"
   ]
  },
  {
   "cell_type": "code",
   "execution_count": null,
   "metadata": {},
   "outputs": [],
   "source": [
    "zip_data = json.load(open('../data/raw/zip_info.json'))"
   ]
  },
  {
   "cell_type": "markdown",
   "metadata": {},
   "source": [
    "make a function which gets only the 'value' from each metric"
   ]
  },
  {
   "cell_type": "code",
   "execution_count": 656,
   "metadata": {},
   "outputs": [],
   "source": [
    "def get_value(x):\n",
    "  \"\"\"\n",
    "  Note that x should be a list of strings(which are dictionaries) which has wanted\n",
    "  value associated to 'value'\n",
    "  \"\"\"\n",
    "  try:\n",
    "    data_list = [item['value'] for item in x['highlights']]\n",
    "  \n",
    "    data_list.append(x['selectedProfile']['label'])\n",
    "    return data_list\n",
    "    # return data_list.append(x['selectedProfile']['label'])\n",
    "\n",
    "  except:\n",
    "    return None\n",
    "\n"
   ]
  },
  {
   "cell_type": "code",
   "execution_count": 669,
   "metadata": {},
   "outputs": [],
   "source": [
    "#extract the values using list comprehension\n",
    "zip_info = [get_value(x) for x in zip_data]\n",
    "zip_df = pd.DataFrame(zip_info)\n",
    "# display(zip_df.head())\n"
   ]
  },
  {
   "cell_type": "markdown",
   "metadata": {},
   "source": [
    "Get the column names by iterating over the \"label\" values in one row of the zip_data"
   ]
  },
  {
   "cell_type": "code",
   "execution_count": 670,
   "metadata": {},
   "outputs": [
    {
     "name": "stdout",
     "output_type": "stream",
     "text": [
      "<class 'list'>\n"
     ]
    }
   ],
   "source": [
    "\n",
    "cols = [x['label'] for x in zip_data[0]['highlights']]\n",
    "#the highlights doesnt have the label for zip code, so we add it manually\n",
    "cols.append('zcta')\n",
    "#replace the spaces with _ and make them lowercase, replace ' in bachelor's degree\n",
    "cols = [x.replace(' ', '_').replace('\\'','').lower() for x in cols]\n",
    "print(type(cols))\n",
    "\n"
   ]
  },
  {
   "cell_type": "code",
   "execution_count": 671,
   "metadata": {},
   "outputs": [
    {
     "data": {
      "text/html": [
       "<div>\n",
       "<style scoped>\n",
       "    .dataframe tbody tr th:only-of-type {\n",
       "        vertical-align: middle;\n",
       "    }\n",
       "\n",
       "    .dataframe tbody tr th {\n",
       "        vertical-align: top;\n",
       "    }\n",
       "\n",
       "    .dataframe thead th {\n",
       "        text-align: right;\n",
       "    }\n",
       "</style>\n",
       "<table border=\"1\" class=\"dataframe\">\n",
       "  <thead>\n",
       "    <tr style=\"text-align: right;\">\n",
       "      <th></th>\n",
       "      <th>total_population</th>\n",
       "      <th>median_household_income</th>\n",
       "      <th>bachelors_degree_or_higher</th>\n",
       "      <th>employment_rate</th>\n",
       "      <th>total_housing_units</th>\n",
       "      <th>without_health_care_coverage</th>\n",
       "      <th>total_employer_establishments</th>\n",
       "      <th>total_households</th>\n",
       "      <th>hispanic_or_latino_(of_any_race)</th>\n",
       "      <th>zcta</th>\n",
       "    </tr>\n",
       "  </thead>\n",
       "  <tbody>\n",
       "    <tr>\n",
       "      <th>0</th>\n",
       "      <td>4228</td>\n",
       "      <td>170379</td>\n",
       "      <td>75.8</td>\n",
       "      <td>51.7</td>\n",
       "      <td>2321</td>\n",
       "      <td>1.9</td>\n",
       "      <td>1087</td>\n",
       "      <td>2002</td>\n",
       "      <td>256</td>\n",
       "      <td>ZCTA5 02108</td>\n",
       "    </tr>\n",
       "    <tr>\n",
       "      <th>1</th>\n",
       "      <td>3921</td>\n",
       "      <td>162179</td>\n",
       "      <td>81.5</td>\n",
       "      <td>77.5</td>\n",
       "      <td>2639</td>\n",
       "      <td>1.5</td>\n",
       "      <td>1340</td>\n",
       "      <td>1993</td>\n",
       "      <td>205</td>\n",
       "      <td>ZCTA5 02109</td>\n",
       "    </tr>\n",
       "    <tr>\n",
       "      <th>2</th>\n",
       "      <td>2921</td>\n",
       "      <td>126157</td>\n",
       "      <td>85.0</td>\n",
       "      <td>55.2</td>\n",
       "      <td>1754</td>\n",
       "      <td>0.7</td>\n",
       "      <td>1917</td>\n",
       "      <td>1312</td>\n",
       "      <td>132</td>\n",
       "      <td>ZCTA5 02110</td>\n",
       "    </tr>\n",
       "    <tr>\n",
       "      <th>3</th>\n",
       "      <td>9716</td>\n",
       "      <td>72321</td>\n",
       "      <td>61.5</td>\n",
       "      <td>55.9</td>\n",
       "      <td>4827</td>\n",
       "      <td>0.9</td>\n",
       "      <td>963</td>\n",
       "      <td>3746</td>\n",
       "      <td>745</td>\n",
       "      <td>ZCTA5 02111</td>\n",
       "    </tr>\n",
       "    <tr>\n",
       "      <th>4</th>\n",
       "      <td>29073</td>\n",
       "      <td>74155</td>\n",
       "      <td>54.8</td>\n",
       "      <td>57.2</td>\n",
       "      <td>15080</td>\n",
       "      <td>2.8</td>\n",
       "      <td>894</td>\n",
       "      <td>14133</td>\n",
       "      <td>5191</td>\n",
       "      <td>ZCTA5 02118</td>\n",
       "    </tr>\n",
       "    <tr>\n",
       "      <th>5</th>\n",
       "      <td>37939</td>\n",
       "      <td>145357</td>\n",
       "      <td>70.0</td>\n",
       "      <td>78.0</td>\n",
       "      <td>19147</td>\n",
       "      <td>1.8</td>\n",
       "      <td>700</td>\n",
       "      <td>17406</td>\n",
       "      <td>3893</td>\n",
       "      <td>ZCTA5 02127</td>\n",
       "    </tr>\n",
       "    <tr>\n",
       "      <th>6</th>\n",
       "      <td>7126</td>\n",
       "      <td>106625</td>\n",
       "      <td>81.0</td>\n",
       "      <td>83.7</td>\n",
       "      <td>4598</td>\n",
       "      <td>2.6</td>\n",
       "      <td>180</td>\n",
       "      <td>4042</td>\n",
       "      <td>341</td>\n",
       "      <td>ZCTA5 02113</td>\n",
       "    </tr>\n",
       "    <tr>\n",
       "      <th>7</th>\n",
       "      <td>14469</td>\n",
       "      <td>121418</td>\n",
       "      <td>83.9</td>\n",
       "      <td>75.9</td>\n",
       "      <td>9805</td>\n",
       "      <td>0.7</td>\n",
       "      <td>744</td>\n",
       "      <td>7719</td>\n",
       "      <td>1038</td>\n",
       "      <td>ZCTA5 02114</td>\n",
       "    </tr>\n",
       "    <tr>\n",
       "      <th>8</th>\n",
       "      <td>31604</td>\n",
       "      <td>51454</td>\n",
       "      <td>67.1</td>\n",
       "      <td>49.7</td>\n",
       "      <td>11448</td>\n",
       "      <td>1.7</td>\n",
       "      <td>714</td>\n",
       "      <td>9845</td>\n",
       "      <td>3216</td>\n",
       "      <td>ZCTA5 02115</td>\n",
       "    </tr>\n",
       "    <tr>\n",
       "      <th>9</th>\n",
       "      <td>23408</td>\n",
       "      <td>131648</td>\n",
       "      <td>77.3</td>\n",
       "      <td>63.7</td>\n",
       "      <td>13392</td>\n",
       "      <td>1.9</td>\n",
       "      <td>1979</td>\n",
       "      <td>11915</td>\n",
       "      <td>1657</td>\n",
       "      <td>ZCTA5 02116</td>\n",
       "    </tr>\n",
       "    <tr>\n",
       "      <th>10</th>\n",
       "      <td>43066</td>\n",
       "      <td>84023</td>\n",
       "      <td>35.6</td>\n",
       "      <td>71.0</td>\n",
       "      <td>18016</td>\n",
       "      <td>7.0</td>\n",
       "      <td>853</td>\n",
       "      <td>17308</td>\n",
       "      <td>21700</td>\n",
       "      <td>ZCTA5 02128</td>\n",
       "    </tr>\n",
       "    <tr>\n",
       "      <th>11</th>\n",
       "      <td>56</td>\n",
       "      <td>-</td>\n",
       "      <td>-</td>\n",
       "      <td>-</td>\n",
       "      <td>28</td>\n",
       "      <td>-</td>\n",
       "      <td>11</td>\n",
       "      <td>0</td>\n",
       "      <td>7</td>\n",
       "      <td>ZCTA5 02133</td>\n",
       "    </tr>\n",
       "    <tr>\n",
       "      <th>12</th>\n",
       "      <td>1391</td>\n",
       "      <td>67969</td>\n",
       "      <td>95.7</td>\n",
       "      <td>36.3</td>\n",
       "      <td>703</td>\n",
       "      <td>1.3</td>\n",
       "      <td>35</td>\n",
       "      <td>453</td>\n",
       "      <td>152</td>\n",
       "      <td>ZCTA5 02163</td>\n",
       "    </tr>\n",
       "    <tr>\n",
       "      <th>13</th>\n",
       "      <td>1574</td>\n",
       "      <td>111786</td>\n",
       "      <td>90.5</td>\n",
       "      <td>67.4</td>\n",
       "      <td>1101</td>\n",
       "      <td>0.0</td>\n",
       "      <td>281</td>\n",
       "      <td>842</td>\n",
       "      <td>82</td>\n",
       "      <td>ZCTA5 02199</td>\n",
       "    </tr>\n",
       "    <tr>\n",
       "      <th>14</th>\n",
       "      <td>10</td>\n",
       "      <td>-</td>\n",
       "      <td>-</td>\n",
       "      <td>-</td>\n",
       "      <td>0</td>\n",
       "      <td>-</td>\n",
       "      <td>18</td>\n",
       "      <td>0</td>\n",
       "      <td>6</td>\n",
       "      <td>ZCTA5 02205</td>\n",
       "    </tr>\n",
       "    <tr>\n",
       "      <th>15</th>\n",
       "      <td>26926</td>\n",
       "      <td>64138</td>\n",
       "      <td>83.7</td>\n",
       "      <td>54.5</td>\n",
       "      <td>10247</td>\n",
       "      <td>2.3</td>\n",
       "      <td>540</td>\n",
       "      <td>8329</td>\n",
       "      <td>2610</td>\n",
       "      <td>ZCTA5 02215</td>\n",
       "    </tr>\n",
       "    <tr>\n",
       "      <th>16</th>\n",
       "      <td>0</td>\n",
       "      <td>-</td>\n",
       "      <td>-</td>\n",
       "      <td>-</td>\n",
       "      <td>0</td>\n",
       "      <td>-</td>\n",
       "      <td>7</td>\n",
       "      <td>0</td>\n",
       "      <td>0</td>\n",
       "      <td>ZCTA5 02203</td>\n",
       "    </tr>\n",
       "    <tr>\n",
       "      <th>17</th>\n",
       "      <td>5808</td>\n",
       "      <td>179643</td>\n",
       "      <td>93.1</td>\n",
       "      <td>84.0</td>\n",
       "      <td>4836</td>\n",
       "      <td>0.6</td>\n",
       "      <td>1098</td>\n",
       "      <td>3730</td>\n",
       "      <td>319</td>\n",
       "      <td>ZCTA5 02210</td>\n",
       "    </tr>\n",
       "    <tr>\n",
       "      <th>18</th>\n",
       "      <td>7</td>\n",
       "      <td>ZCTA5 02222</td>\n",
       "      <td>None</td>\n",
       "      <td>None</td>\n",
       "      <td>None</td>\n",
       "      <td>None</td>\n",
       "      <td>None</td>\n",
       "      <td>None</td>\n",
       "      <td>None</td>\n",
       "      <td>None</td>\n",
       "    </tr>\n",
       "  </tbody>\n",
       "</table>\n",
       "</div>"
      ],
      "text/plain": [
       "   total_population median_household_income bachelors_degree_or_higher  \\\n",
       "0              4228                  170379                       75.8   \n",
       "1              3921                  162179                       81.5   \n",
       "2              2921                  126157                       85.0   \n",
       "3              9716                   72321                       61.5   \n",
       "4             29073                   74155                       54.8   \n",
       "5             37939                  145357                       70.0   \n",
       "6              7126                  106625                       81.0   \n",
       "7             14469                  121418                       83.9   \n",
       "8             31604                   51454                       67.1   \n",
       "9             23408                  131648                       77.3   \n",
       "10            43066                   84023                       35.6   \n",
       "11               56                       -                          -   \n",
       "12             1391                   67969                       95.7   \n",
       "13             1574                  111786                       90.5   \n",
       "14               10                       -                          -   \n",
       "15            26926                   64138                       83.7   \n",
       "16                0                       -                          -   \n",
       "17             5808                  179643                       93.1   \n",
       "18                7             ZCTA5 02222                       None   \n",
       "\n",
       "   employment_rate total_housing_units without_health_care_coverage  \\\n",
       "0             51.7                2321                          1.9   \n",
       "1             77.5                2639                          1.5   \n",
       "2             55.2                1754                          0.7   \n",
       "3             55.9                4827                          0.9   \n",
       "4             57.2               15080                          2.8   \n",
       "5             78.0               19147                          1.8   \n",
       "6             83.7                4598                          2.6   \n",
       "7             75.9                9805                          0.7   \n",
       "8             49.7               11448                          1.7   \n",
       "9             63.7               13392                          1.9   \n",
       "10            71.0               18016                          7.0   \n",
       "11               -                  28                            -   \n",
       "12            36.3                 703                          1.3   \n",
       "13            67.4                1101                          0.0   \n",
       "14               -                   0                            -   \n",
       "15            54.5               10247                          2.3   \n",
       "16               -                   0                            -   \n",
       "17            84.0                4836                          0.6   \n",
       "18            None                None                         None   \n",
       "\n",
       "   total_employer_establishments total_households  \\\n",
       "0                           1087             2002   \n",
       "1                           1340             1993   \n",
       "2                           1917             1312   \n",
       "3                            963             3746   \n",
       "4                            894            14133   \n",
       "5                            700            17406   \n",
       "6                            180             4042   \n",
       "7                            744             7719   \n",
       "8                            714             9845   \n",
       "9                           1979            11915   \n",
       "10                           853            17308   \n",
       "11                            11                0   \n",
       "12                            35              453   \n",
       "13                           281              842   \n",
       "14                            18                0   \n",
       "15                           540             8329   \n",
       "16                             7                0   \n",
       "17                          1098             3730   \n",
       "18                          None             None   \n",
       "\n",
       "   hispanic_or_latino_(of_any_race)         zcta  \n",
       "0                               256  ZCTA5 02108  \n",
       "1                               205  ZCTA5 02109  \n",
       "2                               132  ZCTA5 02110  \n",
       "3                               745  ZCTA5 02111  \n",
       "4                              5191  ZCTA5 02118  \n",
       "5                              3893  ZCTA5 02127  \n",
       "6                               341  ZCTA5 02113  \n",
       "7                              1038  ZCTA5 02114  \n",
       "8                              3216  ZCTA5 02115  \n",
       "9                              1657  ZCTA5 02116  \n",
       "10                            21700  ZCTA5 02128  \n",
       "11                                7  ZCTA5 02133  \n",
       "12                              152  ZCTA5 02163  \n",
       "13                               82  ZCTA5 02199  \n",
       "14                                6  ZCTA5 02205  \n",
       "15                             2610  ZCTA5 02215  \n",
       "16                                0  ZCTA5 02203  \n",
       "17                              319  ZCTA5 02210  \n",
       "18                             None         None  "
      ]
     },
     "metadata": {},
     "output_type": "display_data"
    }
   ],
   "source": [
    "\n",
    "zip_df.columns = cols\n",
    "\n",
    "display(zip_df)\n"
   ]
  },
  {
   "cell_type": "markdown",
   "metadata": {},
   "source": [
    "### Convert zip df to proper type"
   ]
  },
  {
   "cell_type": "markdown",
   "metadata": {},
   "source": [
    "Now, I want to remove the zip codes with 0 households (which also removes '-' from other columns in same row)"
   ]
  },
  {
   "cell_type": "code",
   "execution_count": 672,
   "metadata": {},
   "outputs": [],
   "source": [
    "\n",
    "zip_df.dropna(subset=['total_households'], inplace=True)\n",
    "zip_df = zip_df[zip_df['total_households'].astype(int) > 0]\n",
    "\n",
    "# display(zip_df)"
   ]
  },
  {
   "cell_type": "code",
   "execution_count": 601,
   "metadata": {},
   "outputs": [
    {
     "name": "stdout",
     "output_type": "stream",
     "text": [
      "The sql extension is already loaded. To reload it, use:\n",
      "  %reload_ext sql\n"
     ]
    }
   ],
   "source": [
    "%load_ext sql\n",
    "%config SqlMagic.autocommit=True # for engines that do not support autommit"
   ]
  },
  {
   "cell_type": "code",
   "execution_count": 609,
   "metadata": {},
   "outputs": [],
   "source": [
    "DATA_FOLDER_P = os.path.join('../data')"
   ]
  },
  {
   "cell_type": "code",
   "execution_count": 610,
   "metadata": {},
   "outputs": [],
   "source": [
    "conn = sqlite3.connect(os.path.join(DATA_FOLDER_P, './home_prices.db'))\n",
    "# # conn.commit()\n",
    "# # conn.close()"
   ]
  },
  {
   "cell_type": "code",
   "execution_count": 604,
   "metadata": {},
   "outputs": [
    {
     "data": {
      "text/plain": [
       "15"
      ]
     },
     "execution_count": 604,
     "metadata": {},
     "output_type": "execute_result"
    }
   ],
   "source": [
    "# display(combined_real.head())\n",
    "combined_real.to_sql('zillow', conn, if_exists='replace', index=False)\n",
    "zip_df.to_sql('zip_info', conn, if_exists='replace', index=False)"
   ]
  },
  {
   "cell_type": "markdown",
   "metadata": {},
   "source": [
    "Make the schema for the zillow data"
   ]
  },
  {
   "cell_type": "code",
   "execution_count": 611,
   "metadata": {},
   "outputs": [
    {
     "data": {
      "text/html": [
       "<table>\n",
       "    <thead>\n",
       "        <tr>\n",
       "            <th>id</th>\n",
       "            <th>price</th>\n",
       "            <th>address</th>\n",
       "            <th>addressZipcode</th>\n",
       "            <th>addressState</th>\n",
       "            <th>beds</th>\n",
       "            <th>baths</th>\n",
       "            <th>area</th>\n",
       "            <th>zestimate</th>\n",
       "            <th>brokerName</th>\n",
       "            <th>town</th>\n",
       "        </tr>\n",
       "    </thead>\n",
       "    <tbody>\n",
       "        <tr>\n",
       "            <td>59150059</td>\n",
       "            <td>1595000.0</td>\n",
       "            <td>16 Atlantic St, South Boston, MA 02127</td>\n",
       "            <td>02127</td>\n",
       "            <td>MA</td>\n",
       "            <td>5</td>\n",
       "            <td>3.0</td>\n",
       "            <td>2300.0</td>\n",
       "            <td>1538400.0</td>\n",
       "            <td>Grove Property Group</td>\n",
       "            <td> South Boston</td>\n",
       "        </tr>\n",
       "        <tr>\n",
       "            <td>2063017667</td>\n",
       "            <td>899000.0</td>\n",
       "            <td>330 1/2 East St #1, Boston, MA 02127</td>\n",
       "            <td>02127</td>\n",
       "            <td>MA</td>\n",
       "            <td>4</td>\n",
       "            <td>2.0</td>\n",
       "            <td>1662.0</td>\n",
       "            <td>None</td>\n",
       "            <td>Gibson Sotheby's International Realty</td>\n",
       "            <td> Boston</td>\n",
       "        </tr>\n",
       "        <tr>\n",
       "            <td>63712077</td>\n",
       "            <td>850000.0</td>\n",
       "            <td>534-538 Commonwealth Ave UNIT 7D, Boston, MA 02215</td>\n",
       "            <td>02215</td>\n",
       "            <td>MA</td>\n",
       "            <td>2</td>\n",
       "            <td>2.0</td>\n",
       "            <td>864.0</td>\n",
       "            <td>800100.0</td>\n",
       "            <td>Cornerstone Real Estate</td>\n",
       "            <td> Boston</td>\n",
       "        </tr>\n",
       "        <tr>\n",
       "            <td>318227332</td>\n",
       "            <td>939000.0</td>\n",
       "            <td>183 D St UNIT 4, South Boston, MA 02127</td>\n",
       "            <td>02127</td>\n",
       "            <td>MA</td>\n",
       "            <td>2</td>\n",
       "            <td>2.0</td>\n",
       "            <td>1037.0</td>\n",
       "            <td>927800.0</td>\n",
       "            <td>Skyline Realty</td>\n",
       "            <td> South Boston</td>\n",
       "        </tr>\n",
       "        <tr>\n",
       "            <td>190014785</td>\n",
       "            <td>899000.0</td>\n",
       "            <td>22 Florian St, Roslindale, MA 02131</td>\n",
       "            <td>02131</td>\n",
       "            <td>MA</td>\n",
       "            <td>6</td>\n",
       "            <td>2.0</td>\n",
       "            <td>1959.0</td>\n",
       "            <td>872500.0</td>\n",
       "            <td>Here Realty LLC</td>\n",
       "            <td> Roslindale</td>\n",
       "        </tr>\n",
       "    </tbody>\n",
       "</table>"
      ],
      "text/plain": [
       "+------------+-----------+----------------------------------------------------+----------------+--------------+------+-------+--------+-----------+---------------------------------------+---------------+\n",
       "|     id     |   price   |                      address                       | addressZipcode | addressState | beds | baths |  area  | zestimate |               brokerName              |      town     |\n",
       "+------------+-----------+----------------------------------------------------+----------------+--------------+------+-------+--------+-----------+---------------------------------------+---------------+\n",
       "|  59150059  | 1595000.0 |       16 Atlantic St, South Boston, MA 02127       |     02127      |      MA      |  5   |  3.0  | 2300.0 | 1538400.0 |          Grove Property Group         |  South Boston |\n",
       "| 2063017667 |  899000.0 |        330 1/2 East St #1, Boston, MA 02127        |     02127      |      MA      |  4   |  2.0  | 1662.0 |    None   | Gibson Sotheby's International Realty |     Boston    |\n",
       "|  63712077  |  850000.0 | 534-538 Commonwealth Ave UNIT 7D, Boston, MA 02215 |     02215      |      MA      |  2   |  2.0  | 864.0  |  800100.0 |        Cornerstone Real Estate        |     Boston    |\n",
       "| 318227332  |  939000.0 |      183 D St UNIT 4, South Boston, MA 02127       |     02127      |      MA      |  2   |  2.0  | 1037.0 |  927800.0 |             Skyline Realty            |  South Boston |\n",
       "| 190014785  |  899000.0 |        22 Florian St, Roslindale, MA 02131         |     02131      |      MA      |  6   |  2.0  | 1959.0 |  872500.0 |            Here Realty LLC            |   Roslindale  |\n",
       "+------------+-----------+----------------------------------------------------+----------------+--------------+------+-------+--------+-----------+---------------------------------------+---------------+"
      ]
     },
     "execution_count": 611,
     "metadata": {},
     "output_type": "execute_result"
    }
   ],
   "source": [
    "%%sql homes\n",
    "# SELECT name FROM sqlite_master WHERE type='table';\n",
    "\n",
    "\n"
   ]
  },
  {
   "cell_type": "code",
   "execution_count": null,
   "metadata": {},
   "outputs": [],
   "source": []
  },
  {
   "cell_type": "code",
   "execution_count": 612,
   "metadata": {},
   "outputs": [],
   "source": [
    "conn.close()"
   ]
  }
 ],
 "metadata": {
  "kernelspec": {
   "display_name": "base",
   "language": "python",
   "name": "python3"
  },
  "language_info": {
   "codemirror_mode": {
    "name": "ipython",
    "version": 3
   },
   "file_extension": ".py",
   "mimetype": "text/x-python",
   "name": "python",
   "nbconvert_exporter": "python",
   "pygments_lexer": "ipython3",
   "version": "3.12.4"
  }
 },
 "nbformat": 4,
 "nbformat_minor": 2
}
