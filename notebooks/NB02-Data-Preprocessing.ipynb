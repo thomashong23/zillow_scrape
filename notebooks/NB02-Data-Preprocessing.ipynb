{
 "cells": [
  {
   "cell_type": "markdown",
   "metadata": {},
   "source": [
    "# Data Preprocessing Based on Saved Files from NB 01 and 01b"
   ]
  },
  {
   "cell_type": "markdown",
   "metadata": {},
   "source": [
    "Import necessary packages"
   ]
  },
  {
   "cell_type": "code",
   "execution_count": 71,
   "metadata": {},
   "outputs": [],
   "source": [
    "import glob\n",
    "import json\n",
    "import os\n",
    "import pandas as pd\n",
    "import warnings\n",
    "import sqlite3\n",
    "import numerize\n"
   ]
  },
  {
   "cell_type": "markdown",
   "metadata": {},
   "source": [
    "## Cleaning Zillow home data"
   ]
  },
  {
   "cell_type": "markdown",
   "metadata": {},
   "source": [
    "### Import data and combine into df"
   ]
  },
  {
   "cell_type": "code",
   "execution_count": 36,
   "metadata": {},
   "outputs": [],
   "source": [
    "\n",
    "warnings.filterwarnings(\"ignore\")\n",
    "DATA_FOLDER = '../data/raw'\n",
    "#making a list of file names to easily access them\n",
    "zillow_files = [os.path.join(DATA_FOLDER, 'zillow',  file) \n",
    "             for file in os.listdir(DATA_FOLDER + \"/zillow\") \n",
    "             if file.endswith('.json')]\n",
    "\n",
    "combined_data = []\n",
    "for file in zillow_files:\n",
    "  #found a stackoverflow how to read json files line by line as dictionaries\n",
    "  with open(file, 'r') as f:\n",
    "    \n",
    "    for line in f:\n",
    "      combined_data.append(json.loads(line))\n",
    "    \n",
    "    \n",
    "#converting the list of dictionaries to a pandas dataframe\n",
    "combined_df = pd.DataFrame.from_dict(combined_data)\n",
    "# display(combined_df.head())\n",
    "\n"
   ]
  },
  {
   "cell_type": "markdown",
   "metadata": {},
   "source": [
    "### Drop unnecessary columns, convert to proper dtypes"
   ]
  },
  {
   "cell_type": "code",
   "execution_count": 37,
   "metadata": {},
   "outputs": [],
   "source": [
    "combined_cleaned = combined_df[['id', 'price', 'address', \n",
    "    'addressZipcode', 'addressState', 'beds', 'baths', 'area', \n",
    "    'zestimate', 'brokerName']]\n",
    "#free up space\n",
    "del combined_df\n"
   ]
  },
  {
   "cell_type": "markdown",
   "metadata": {},
   "source": [
    "I only want houses which are real (have at least 1 bedroom)"
   ]
  },
  {
   "cell_type": "code",
   "execution_count": 38,
   "metadata": {},
   "outputs": [],
   "source": [
    "combined_real = combined_cleaned[combined_cleaned['beds'] > 0]"
   ]
  },
  {
   "cell_type": "markdown",
   "metadata": {},
   "source": [
    "Now all houses have non-null beds, baths, etc\n",
    "Next is to strip the $ sign from price and convert to proper data types"
   ]
  },
  {
   "cell_type": "code",
   "execution_count": 39,
   "metadata": {},
   "outputs": [],
   "source": [
    "#convert the price to float and remove the $ and , and + signs.\n",
    "#some houses had a + sign at the end of the price, but I took the price without the sign\n",
    "combined_real['price']  = combined_real['price'].str.replace('$', '').str.replace(',','').str.replace('+', '')\n",
    "combined_real['price'] = combined_real['price'].astype(float)"
   ]
  },
  {
   "cell_type": "markdown",
   "metadata": {},
   "source": [
    "Bedroom can only be an integer, so will cast it as an int16. ID is also an int. "
   ]
  },
  {
   "cell_type": "code",
   "execution_count": 40,
   "metadata": {},
   "outputs": [],
   "source": [
    "combined_real['beds'] = combined_real['beds'].astype('int16')\n",
    "combined_real['id'] = combined_real['id'].astype('int64')\n",
    "combined_real.drop_duplicates(subset='address', inplace=True)\n",
    "\n"
   ]
  },
  {
   "cell_type": "markdown",
   "metadata": {},
   "source": [
    "## Cleaning Zip Data"
   ]
  },
  {
   "cell_type": "markdown",
   "metadata": {},
   "source": [
    "### Load in the data"
   ]
  },
  {
   "cell_type": "code",
   "execution_count": 41,
   "metadata": {},
   "outputs": [],
   "source": [
    "zip_data = json.load(open('../data/raw/zip_info.json'))"
   ]
  },
  {
   "cell_type": "markdown",
   "metadata": {},
   "source": [
    "make a function which gets only the 'value' from each metric"
   ]
  },
  {
   "cell_type": "code",
   "execution_count": 42,
   "metadata": {},
   "outputs": [],
   "source": [
    "def get_value(x):\n",
    "  \"\"\"\n",
    "  Note that x should be a list of strings(which are dictionaries) which has wanted\n",
    "  value associated to 'value'\n",
    "  \"\"\"\n",
    "  try:\n",
    "    data_list = [item['value'] for item in x['highlights']]\n",
    "  \n",
    "    data_list.append(x['selectedProfile']['label'])\n",
    "    return data_list\n",
    "    # return data_list.append(x['selectedProfile']['label'])\n",
    "\n",
    "  except:\n",
    "    return None\n",
    "\n"
   ]
  },
  {
   "cell_type": "code",
   "execution_count": 43,
   "metadata": {},
   "outputs": [],
   "source": [
    "#extract the values using list comprehension\n",
    "zip_info = [get_value(x) for x in zip_data]\n",
    "zip_df = pd.DataFrame(zip_info)\n",
    "\n"
   ]
  },
  {
   "cell_type": "markdown",
   "metadata": {},
   "source": [
    "Get the column names by iterating over the \"label\" values in one row of the zip_data"
   ]
  },
  {
   "cell_type": "code",
   "execution_count": 44,
   "metadata": {},
   "outputs": [],
   "source": [
    "\n",
    "cols = [x['label'] for x in zip_data[0]['highlights']]\n",
    "#the highlights doesnt have the label for zip code, so we add it manually\n",
    "cols.append('zcta')\n",
    "#replace the spaces with _ and make them lowercase, replace ' in bachelor's degree\n",
    "cols = [x.replace(' ', '_').replace('\\'','').lower() for x in cols]\n",
    "\n",
    "\n"
   ]
  },
  {
   "cell_type": "code",
   "execution_count": 45,
   "metadata": {},
   "outputs": [],
   "source": [
    "zip_df.columns = cols"
   ]
  },
  {
   "cell_type": "markdown",
   "metadata": {},
   "source": [
    "Clean up the ZCTA to proper zip"
   ]
  },
  {
   "cell_type": "code",
   "execution_count": 48,
   "metadata": {},
   "outputs": [],
   "source": [
    "\n",
    "zip_df['zcta'] = zip_df['zcta'].astype(str).apply(lambda x: x[6:])\n"
   ]
  },
  {
   "cell_type": "markdown",
   "metadata": {},
   "source": [
    "### Convert zip df to proper type"
   ]
  },
  {
   "cell_type": "markdown",
   "metadata": {},
   "source": [
    "Now, I want to remove the zip codes with 0 households (which also removes '-' from other columns in same row)"
   ]
  },
  {
   "cell_type": "code",
   "execution_count": 49,
   "metadata": {},
   "outputs": [],
   "source": [
    "zip_df.dropna(subset=['total_households'], inplace=True)\n",
    "zip_df = zip_df[zip_df['total_households'].astype(int) > 0]"
   ]
  },
  {
   "cell_type": "markdown",
   "metadata": {},
   "source": [
    "Assign proper types to zip_df"
   ]
  },
  {
   "cell_type": "code",
   "execution_count": 61,
   "metadata": {},
   "outputs": [
    {
     "name": "stdout",
     "output_type": "stream",
     "text": [
      "<class 'pandas.core.frame.DataFrame'>\n",
      "Index: 15 entries, 0 to 17\n",
      "Data columns (total 11 columns):\n",
      " #   Column                            Non-Null Count  Dtype \n",
      "---  ------                            --------------  ----- \n",
      " 0   total_population                  15 non-null     object\n",
      " 1   median_household_income           15 non-null     object\n",
      " 2   bachelors_degree_or_higher        15 non-null     object\n",
      " 3   employment_rate                   15 non-null     object\n",
      " 4   total_housing_units               15 non-null     object\n",
      " 5   without_health_care_coverage      15 non-null     object\n",
      " 6   total_employer_establishments     15 non-null     object\n",
      " 7   total_households                  15 non-null     object\n",
      " 8   hispanic_or_latino_(of_any_race)  15 non-null     object\n",
      " 9   zcta                              15 non-null     object\n",
      " 10  zip_code                          15 non-null     object\n",
      "dtypes: object(11)\n",
      "memory usage: 1.4+ KB\n"
     ]
    },
    {
     "data": {
      "text/plain": [
       "None"
      ]
     },
     "metadata": {},
     "output_type": "display_data"
    }
   ],
   "source": [
    "\n",
    "zip_df['total_population'] = zip_df['total_population'].astype(int)\n",
    "zip_df['median_household_income'] = zip_df['median_household_income'].astype(int)\n",
    "zip_df['bachelors_degree_or_higher'] = zip_df['bachelors_degree_or_higher'].astype(float)\n",
    "zip_df['employment_rate'] = zip_df['employment_rate'].astype(float)\n",
    "zip_df['total_housing_units'] = zip_df['total_housing_units'].astype(int)\n",
    "zip_df['without_health_care_coverage'] = zip_df['without_health_care_coverage'].astype(float)\n",
    "zip_df['total_employer_establishments'] = zip_df['total_employer_establishments'].astype(int)\n",
    "zip_df['total_households'] = zip_df['total_households'].astype(int)\n",
    "zip_df['hispanic_or_latino_(of_any_race)'] = zip_df['hispanic_or_latino_(of_any_race)'].astype(int)\n",
    "zip_df['zcta'] = zip_df['zcta'].astype(str)\n",
    "zip_df['zip_code'] = zip_df['zip_code'].astype(str)"
   ]
  },
  {
   "cell_type": "markdown",
   "metadata": {},
   "source": [
    "Change medium household income to proper number"
   ]
  },
  {
   "cell_type": "code",
   "execution_count": 74,
   "metadata": {},
   "outputs": [],
   "source": [
    "#AI helped with the following line\n",
    "zip_df['median_household_income'] = zip_df['median_household_income'].apply(pd.to_numeric)\n"
   ]
  },
  {
   "cell_type": "code",
   "execution_count": 76,
   "metadata": {},
   "outputs": [],
   "source": [
    "DATA_FOLDER_P = os.path.join('../data')"
   ]
  },
  {
   "cell_type": "markdown",
   "metadata": {},
   "source": [
    "Connect to db"
   ]
  },
  {
   "cell_type": "code",
   "execution_count": 77,
   "metadata": {},
   "outputs": [],
   "source": [
    "conn = sqlite3.connect(os.path.join(DATA_FOLDER_P, './home_prices.db'))"
   ]
  },
  {
   "cell_type": "markdown",
   "metadata": {},
   "source": [
    "Add the two dfs as tables in db"
   ]
  },
  {
   "cell_type": "code",
   "execution_count": 78,
   "metadata": {},
   "outputs": [
    {
     "data": {
      "text/plain": [
       "15"
      ]
     },
     "execution_count": 78,
     "metadata": {},
     "output_type": "execute_result"
    }
   ],
   "source": [
    "combined_real.to_sql('zillow', conn, if_exists='replace', index=False)\n",
    "zip_df.to_sql('zip_info', conn, if_exists='replace', index=False)"
   ]
  },
  {
   "cell_type": "code",
   "execution_count": 79,
   "metadata": {},
   "outputs": [],
   "source": [
    "\n",
    "conn.close()"
   ]
  }
 ],
 "metadata": {
  "kernelspec": {
   "display_name": "base",
   "language": "python",
   "name": "python3"
  },
  "language_info": {
   "codemirror_mode": {
    "name": "ipython",
    "version": 3
   },
   "file_extension": ".py",
   "mimetype": "text/x-python",
   "name": "python",
   "nbconvert_exporter": "python",
   "pygments_lexer": "ipython3",
   "version": "3.12.4"
  }
 },
 "nbformat": 4,
 "nbformat_minor": 2
}
