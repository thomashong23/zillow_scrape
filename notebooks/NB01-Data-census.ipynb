{
 "cells": [
  {
   "cell_type": "code",
   "execution_count": 24,
   "metadata": {},
   "outputs": [],
   "source": [
    "import requests                         # for sending HTTP requests\n",
    "\n",
    "from tqdm.notebook import tqdm, trange  # for progress bars\n",
    "from selenium import webdriver\n",
    "from scrapy import Selector             # for parsing HTML content\n",
    "import pandas as pd\n",
    "import time\n",
    "import json\n",
    "import os"
   ]
  },
  {
   "cell_type": "code",
   "execution_count": 25,
   "metadata": {},
   "outputs": [],
   "source": [
    "zip_url = 'https://zipcode.org/city/MA/BOSTON'"
   ]
  },
  {
   "cell_type": "code",
   "execution_count": 26,
   "metadata": {},
   "outputs": [],
   "source": [
    "\n",
    "def fetch_page(url, delay=1):\n",
    "  \"\"\"\n",
    "  \"\"\"\n",
    "  headers = {\n",
    "    'User-Agent': 'Mozilla/5.0 (Windows NT 10.0; Win64; x64) AppleWebKit/537.36 (KHTML, like Gecko) Chrome/109.0.0.0 Safari/537.36',\n",
    "  }\n",
    "  time.sleep(delay)\n",
    "  try:\n",
    "    response = requests.get(url, timeout=None, headers= headers) \n",
    "  except Exception as e:\n",
    "    print('Error', e)\n",
    "    pass\n",
    "  if not response.ok:\n",
    "    print(\"Something went wrong\", response.status_code)\n",
    "    pass\n",
    "  html = response.content\n",
    "  \n",
    "  return Selector(text=html)"
   ]
  },
  {
   "cell_type": "code",
   "execution_count": 39,
   "metadata": {},
   "outputs": [
    {
     "name": "stdout",
     "output_type": "stream",
     "text": [
      "['02108', '02109', '02110', '02111', '02112', '02117', '02118', '02127', '02113', '02114', '02115', '02116', '02123', '02128', '02133', '02163', '02196', '02199', '02205', '02206', '02212', '02215', '02266', '02283', '02201', '02203', '02204', '02210', '02211', '02217', '02222', '02241', '02284', '02293', '02295', '02297', '02298']\n",
      "37\n"
     ]
    }
   ],
   "source": [
    "def get_all_zips (sel):\n",
    "  # print(sel)\n",
    "  block = sel.css('div.HTML_Block')[5]\n",
    "  zip_list = block.css('a::attr(href)').getall()\n",
    "  adjusted_zip_list = [x[1:] for x in zip_list]\n",
    "  print(adjusted_zip_list)\n",
    "  print(len(adjusted_zip_list))\n",
    "  return adjusted_zip_list\n",
    "boston_zip_list = get_all_zips(fetch_page(zip_url))"
   ]
  },
  {
   "cell_type": "code",
   "execution_count": 40,
   "metadata": {},
   "outputs": [],
   "source": [
    "def get_zip_codes(zip_code):\n",
    "  url = \"https://data.census.gov/api/profile/content/highlights?g=860XX00US\" + zip_code\n",
    "\n",
    "  payload = {}\n",
    "  headers = {\n",
    "    'accept': 'application/json, text/plain, */*',\n",
    "    'accept-language': 'en-US,en;q=0.9',\n",
    "    'cookie': f'TS0199cad0=01283c52a4053cd1c46a1907d5f226004f6791ecafbbd07bd73706817c4c8c54cb18239dd96300558742245d8f9f6913f00c468d10; JSESSIONID=FB08B0B263A44CC37B7C8856D1555C71; AMCVS_3BE068F454E7806E0A4C98A6%40AdobeOrg=1; _ga=GA1.1.1221884377.1721645046; s_cc=true; RT=\"z=1&dm=census.gov&si=d2447c9f-b8ce-41a3-90d5-ccf51cde106e&ss=lywxlvgs&sl=0&tt=0&se=p0&bcn=%2F%2F684dd32a.akstat.io%2F\"; AMCV_3BE068F454E7806E0A4C98A6%40AdobeOrg=1176715910%7CMCIDTS%7C19927%7CMCMID%7C04518343996268834853826663517684124920%7CMCAAMLH-1722346829%7C6%7CMCAAMB-1722346829%7CRKhpRz8krg2tLO6pguXWp5olkAcUniQYPHaMWWgdJ3xzPWQmdj0y%7CMCOPTOUT-1721749229s%7CNONE%7CvVersion%7C5.4.0; s_vnc60=1726926029851%26vn%3D5; bm_mi=5A550E711B63333F787ECD25E222FDF0~YAAQinjOF/4asZuQAQAATF3X3xh7d8Ah4lgZfONj6hQu0dUt9PSj68niMVJhdD2N3Gthfej4bENuxLKLXRdt0Tu7V7UU75PMwvRLMJTiJF2z4s2AoOn6x3mTP2fomwvNp6hCzdfkVyZeDzYnnqxEE7AQdXZ+7gdzmV6nr01oyWQZU9L7TKKeXSC4Cb/O1BIDZ1tvUiROgRt7gcKnFHxSUIK4k7xvm2mGMc4Vj5xe84mt6fK/y5WN0qzQrOqajwOq/XB1/9FVdiE3SeCrtDT8uNUxNvCFFiOjaukRowFKpKiBXnd1RiAXMDhGhCD6sw4FXx8lDz5Ui0mqGsIbhT+5OY4=~1; ak_bmsc=1833F04C7C86F792F040CFBC59CE214E~000000000000000000000000000000~YAAQinjOF0AbsZuQAQAA1WHX3xhLsZyFRgUdYqmsMV2JicdA7PYVVfnvJl6QS+WGABw9Lxt9N2QlxlGDidLpvXMQsbCbc4uT8cplH7nTHj6YkY/EKyKE4yoGLIm/d+C76bkBXLKxXrI4ogoaLnKvjLle/FmnGz5K/bm07oWrtAUBcIueaqRe4C39tlc9jhmSk3sFsu6QH1sM5tJVEqihCuzO9Drqpaqp5vYSeJHMk95kwcgeYF0tPeY2RMJU6TrNncrURUgFAbXMF0DaNgEyX0LMq/hp/iBNjzQq4nL5x/0YhcvuJU9da7kzfYi7hC7Wukx/0d+lxi0i052ZAG1KWuHu/R63dWdV85vJ0NfwZpBBmPcJekT0c4nOOtPplxZ7uzh4G5VrHWYzuOFRP/YKXKfxJyE6G3e2miL+Mr6EWkUgtFEpcb5h/UfyWaxj+RebuVuofg1RtJjFgiyzqDRtVs0IbJMY4LrnASmy8a6Zl1ROA7k83w7Ed03DH7gM/JKhBg==; s_gvo=DP05_0001E%7C%7C%7C%7C%7C; s_sq=%5B%5BB%5D%5D; TS01c26d18=01283c52a49bbf47c78e3b490e9f4aa9f381b2f62e3883676e345d21a5a6ead10668257168e3acbab89bed5165cdb70e4bc13213cc; _ga_VY5XG9XWGG=GS1.1.1721742029.5.1.1721746588.0.0.0; _ga_CSLL4ZEK4L=GS1.1.1721742029.5.1.1721746588.0.0.0; s_nr60=1721746588329-Repeat; s_tslv=1721746588329; s_ips=768; s_tp=768; s_ppv=ZCTA5%2520{zip_code}%2520-%2520Census%2520Bureau%2520Profile%2C100%2C100%2C768%2C1%2C1; RT=\"z=1&dm=data.census.gov&si=d2447c9f-b8ce-41a3-90d5-ccf51cde106e&ss=lyyhtjg6&sl=0&tt=0&se=p0&bcn=%2F%2F684dd329.akstat.io%2F\"; bm_sv=F5CB4BBEF3FFD932700C39B8B21D4505~YAAQXeHdF6CbdJ2QAQAAN8c14BgZbBSutwjjDmARp9jWvgGU4o40IcokvuE/vfr2ox/+aCl+FUbWnN4EpE/KGzIxAIVdfpJLgj6ZFhyJIPyCHztqhLTmCxP5i0OsgWy4Y21NbVospByE5dWuf4ioZdmwBGz8qV7HDeavYthuZCGGhD6vWUEdTgGnt4+tlZ2+Mi90z1mH7v6dcB2bQLyQtZ0EHTF6/Ze2jVIINbNQMeP0AY81URcTokVBPO+bYIownsrP2Y3PXaCD~1; JSESSIONID=BED66CA85C9A31319252692C2921FC1C; TS0199cad0=01283c52a4053cd1c46a1907d5f226004f6791ecafbbd07bd73706817c4c8c54cb18239dd96300558742245d8f9f6913f00c468d10; TS01c26d18=01283c52a4ebdbf20c6778e434c51fccc664b3307947f1052b30ba1ee58cb3c3e3f1544f1a370386c9f77c65e368f864455bd04eec',\n",
    "    'priority': 'u=1, i',\n",
    "    'referer': f'https://data.census.gov/profile/ZCTA5_{zip_code}?g=860XX00US' + zip_code,\n",
    "    'sec-ch-ua': '\"Chromium\";v=\"124\", \"Google Chrome\";v=\"124\", \"Not-A.Brand\";v=\"99\"',\n",
    "    'sec-ch-ua-mobile': '?0',\n",
    "    'sec-ch-ua-platform': '\"macOS\"',\n",
    "    'sec-fetch-dest': 'empty',\n",
    "    'sec-fetch-mode': 'cors',\n",
    "    'sec-fetch-site': 'same-origin',\n",
    "    'user-agent': 'Mozilla/5.0 (Macintosh; Intel Mac OS X 10_15_7) AppleWebKit/537.36 (KHTML, like Gecko) Chrome/124.0.0.0 Safari/537.36'\n",
    "  }\n",
    "\n",
    "  response = requests.request(\"GET\", url, headers=headers, data=payload)\n",
    "  json_response = response.json()\n",
    "  return json_response\n",
    "\n",
    "\n",
    "# print(type(json_response))\n",
    "# print(json_response[]\n",
    "  "
   ]
  },
  {
   "cell_type": "code",
   "execution_count": 43,
   "metadata": {},
   "outputs": [],
   "source": [
    "zip_info = [get_zip_codes(zip_code) for zip_code in boston_zip_list]\n",
    "\n"
   ]
  },
  {
   "cell_type": "code",
   "execution_count": 61,
   "metadata": {},
   "outputs": [
    {
     "name": "stdout",
     "output_type": "stream",
     "text": [
      "19\n",
      "[None, None, None, None, None, None, None, None, None, None, None, None, None, None, None, None, None, None, None]\n"
     ]
    }
   ],
   "source": [
    "print(len(zip_info))\n",
    "\n",
    "\n",
    "#we had 37 zip codes, but only 19 in our list of dictionaries. \n",
    "#some zip codes are one specific non-residential building or P.O. box, so they don't Zillow data anyway\n",
    "print([x if 'selectedProfile' not in x else None for x in zip_info] )\n",
    "zip_info = [x for x in zip_info if 'selectedProfile' in x]"
   ]
  },
  {
   "cell_type": "code",
   "execution_count": 62,
   "metadata": {},
   "outputs": [],
   "source": [
    "\n",
    "\n",
    "# Define the file path\n",
    "file_path = \"../data/raw/zip_info.json\"\n",
    "\n",
    "# Create the directory if it doesn't exist\n",
    "os.makedirs(os.path.dirname(file_path), exist_ok=True)\n",
    "\n",
    "# Write the zip info to the JSON file\n",
    "with open(file_path, 'w') as file:\n",
    "  json.dump(zip_info, file)"
   ]
  }
 ],
 "metadata": {
  "kernelspec": {
   "display_name": "base",
   "language": "python",
   "name": "python3"
  },
  "language_info": {
   "codemirror_mode": {
    "name": "ipython",
    "version": 3
   },
   "file_extension": ".py",
   "mimetype": "text/x-python",
   "name": "python",
   "nbconvert_exporter": "python",
   "pygments_lexer": "ipython3",
   "version": "3.12.4"
  }
 },
 "nbformat": 4,
 "nbformat_minor": 2
}
