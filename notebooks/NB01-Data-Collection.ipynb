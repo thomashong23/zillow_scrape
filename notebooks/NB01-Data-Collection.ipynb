{
 "cells": [
  {
   "cell_type": "code",
   "execution_count": 12,
   "metadata": {},
   "outputs": [],
   "source": [
    "import requests                         # for sending HTTP requests\n",
    "\n",
    "from tqdm.notebook import tqdm, trange  # for progress bars\n",
    "\n",
    "from scrapy import Selector             # for parsing HTML content\n",
    "import pandas as pd"
   ]
  },
  {
   "cell_type": "markdown",
   "metadata": {},
   "source": [
    "I ran into issues with 403 req, so trying headers"
   ]
  },
  {
   "cell_type": "code",
   "execution_count": null,
   "metadata": {},
   "outputs": [],
   "source": [
    "\n"
   ]
  },
  {
   "cell_type": "code",
   "execution_count": 13,
   "metadata": {},
   "outputs": [],
   "source": [
    "def fetch_page(url):\n",
    "  \"\"\"\n",
    "  \"\"\"\n",
    "  \n",
    "  try:\n",
    "    response = requests.get(url, timeout=None) \n",
    "  except Exception as e:\n",
    "    print('Error', e)\n",
    "    pass\n",
    "  if not response.ok:\n",
    "    print(\"Something went wrong\", response.status_code)\n",
    "    pass\n",
    "  html = response.content\n",
    "  \n",
    "  return Selector(text=html)"
   ]
  },
  {
   "cell_type": "code",
   "execution_count": 14,
   "metadata": {},
   "outputs": [],
   "source": [
    "def extract_all_listings(page_sel): \n",
    "  \"\"\"\n",
    "  Inputs: \n",
    "    page_sel: a Selector object which contains \n",
    "      the contents of the Zillow website of houses\n",
    "  Outputs:\n",
    "    rental_list: a list of listings contained within page_sel\n",
    "  \"\"\"\n",
    "  objects = page_sel.xpath('//div[contains(@class, \"StyledPropertyCardDataWrapper\")]')\n",
    "  return objects\n",
    "  #TODO \n"
   ]
  },
  {
   "cell_type": "code",
   "execution_count": 35,
   "metadata": {},
   "outputs": [],
   "source": [
    "def get_listing_info(listing_sel):\n",
    "  \"\"\"\n",
    "  Inputs:\n",
    "    listing_sel: a Selector object which contains the content\n",
    "      of one listing\n",
    "  Outputs:\n",
    "    unit_dict: a dictionary which contains price per month, number of bedrooms, \n",
    "      number of bathrooms, sqft, postal code, and date listed\n",
    "  \"\"\"\n",
    "  address = listing_sel.css(\"a ::text\").get()\n",
    "  zip_code = address[-5:]\n",
    "  price = listing_sel.css(\"div span ::text\").get()[1:]\n",
    "  bbs = listing_sel.css(\"ul li b ::text\").getall()\n",
    "  bed = bbs[0]\n",
    "  bath = bbs[1]\n",
    "  sqft = bbs[2]\n",
    "  print(bed, bath, sqft)\n",
    "  print(address)\n",
    "  print(price)\n",
    "  print(zip_code)"
   ]
  },
  {
   "cell_type": "code",
   "execution_count": 36,
   "metadata": {},
   "outputs": [
    {
     "name": "stdout",
     "output_type": "stream",
     "text": [
      "<div class=\"StyledPropertyCardDataWrapper-c11n-8-102-0__sc-hfbvv9-0 cXubMK property-card-data\"><a href=\"https://www.zillow.com/homedetails/131-Brooks-St-East-Boston-MA-02128/59124037_zpid/\" data-test=\"property-card-link\" class=\"StyledPropertyCardDataArea-c11n-8-102-0__sc-10i1r6-0 klMkvj property-card-link\" tabindex=\"0\"><address data-test=\"property-card-addr\">131 Brooks St, East Boston, MA 02128</address></a><div class=\"StyledPropertyCardDataArea-c11n-8-102-0__sc-10i1r6-0 eYtsWk\">CENTURY 21 NORTH EAST, Pedro Cordano</div><div class=\"StyledPropertyCardDataArea-c11n-8-102-0__sc-10i1r6-0 gHLzem\"><div class=\"PropertyCardWrapper__StyledPriceGridContainer-srp-8-102-0__sc-16e8gqd-0 eFBhnu\"><span data-test=\"property-card-price\" class=\"PropertyCardWrapper__StyledPriceLine-srp-8-102-0__sc-16e8gqd-1 vjmXt\">$850,000</span></div></div><div class=\"StyledPropertyCardDataArea-c11n-8-102-0__sc-10i1r6-0 gAnZoM\"><ul class=\"StyledPropertyCardHomeDetailsList-c11n-8-102-0__sc-1j0som5-0 exCsDV\"><li><b>7</b> <abbr>bds</abbr></li><li><b>4</b> <abbr>ba</abbr></li><li><b>2,640</b> <abbr>sqft</abbr></li></ul> <!-- -->- Multi-family home for sale</div><div class=\"StyledPropertyCardActionArea-c11n-8-102-0__sc-p25vvg-0 jywCYI\"><button aria-expanded=\"false\" class=\"StyledDropdownIcon-c11n-8-102-0__sc-rynrb-0 iBCSho DropdownPopper-c11n-8-102-0__sc-u1wzgh-0 iRrNMo MenuPopper-c11n-8-102-0__sc-mwvf22-0 StyledPropertyCardMenuPopper-c11n-8-102-0__sc-at0zrq-0 kKSdkA cxFNJy property-card-actions-btn\" aria-haspopup=\"menu\"><svg viewbox=\"0 0 24 24\"><path class=\"MoreIcon__fill\" d=\"M4.5 9C2.84315 9 1.5 10.3431 1.5 12C1.5 13.6569 2.84315 15 4.5 15C6.15685 15 7.5 13.6569 7.5 12C7.5 10.3431 6.15685 9 4.5 9ZM12 9C10.3431 9 9 10.3431 9 12C9 13.6569 10.3431 15 12 15C13.6569 15 15 13.6569 15 12C15 10.3431 13.6569 9 12 9ZM16.5 12C16.5 10.3431 17.8431 9 19.5 9C21.1569 9 22.5 10.3431 22.5 12C22.5 13.6569 21.1569 15 19.5 15C17.8431 15 16.5 13.6569 16.5 12Z\"></path><path class=\"MoreIcon__outline\" d=\"M1.5 12C1.5 10.3431 2.84315 9 4.5 9C6.15685 9 7.5 10.3431 7.5 12C7.5 13.6569 6.15685 15 4.5 15C2.84315 15 1.5 13.6569 1.5 12ZM6 12C6 11.1716 5.32843 10.5 4.5 10.5C3.67157 10.5 3 11.1716 3 12C3 12.8284 3.67157 13.5 4.5 13.5C5.32843 13.5 6 12.8284 6 12ZM9 12C9 10.3431 10.3431 9 12 9C13.6569 9 15 10.3431 15 12C15 13.6569 13.6569 15 12 15C10.3431 15 9 13.6569 9 12ZM13.5 12C13.5 11.1716 12.8284 10.5 12 10.5C11.1716 10.5 10.5 11.1716 10.5 12C10.5 12.8284 11.1716 13.5 12 13.5C12.8284 13.5 13.5 12.8284 13.5 12ZM19.5 9C17.8431 9 16.5 10.3431 16.5 12C16.5 13.6569 17.8431 15 19.5 15C21.1569 15 22.5 13.6569 22.5 12C22.5 10.3431 21.1569 9 19.5 9ZM19.5 10.5C20.3284 10.5 21 11.1716 21 12C21 12.8284 20.3284 13.5 19.5 13.5C18.6716 13.5 18 12.8284 18 12C18 11.1716 18.6716 10.5 19.5 10.5Z\"></path></svg><span class=\"VisuallyHidden-c11n-8-102-0__sc-t8tewe-0 hJMywO\">Show more</span></button></div></div>\n",
      "<b>7</b> <b>4</b> <b>2,640</b>\n",
      "131 Brooks St, East Boston, MA 02128\n",
      "850,000\n",
      "02128\n"
     ]
    }
   ],
   "source": [
    "sel = fetch_page('https://www.zillow.com/boston-ma/2_p/')\n",
    "objects = sel.xpath('//div[contains(@class, \"StyledPropertyCardDataWrapper\")]')\n",
    "print(objects[0])\n",
    "get_listing_info(objects[0])"
   ]
  }
 ],
 "metadata": {
  "kernelspec": {
   "display_name": "base",
   "language": "python",
   "name": "python3"
  },
  "language_info": {
   "codemirror_mode": {
    "name": "ipython",
    "version": 3
   },
   "file_extension": ".py",
   "mimetype": "text/x-python",
   "name": "python",
   "nbconvert_exporter": "python",
   "pygments_lexer": "ipython3",
   "version": "3.12.4"
  }
 },
 "nbformat": 4,
 "nbformat_minor": 2
}
